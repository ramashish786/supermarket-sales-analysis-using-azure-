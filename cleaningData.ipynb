{
  "cells": [
    {
      "cell_type": "code",
      "source": [
        "%%pyspark \r\n",
        "\r\n",
        "items_raw = spark.read.option(\"header\",\"true\").load(path=\"abfss://data-container@supermarket.dfs.core.windows.net/raw_data/items.csv\",format=\"csv\")"
      ],
      "outputs": [
        {
          "output_type": "display_data",
          "data": {
            "application/vnd.livy.statement-meta+json": {
              "spark_pool": "sparkpool",
              "session_id": "0",
              "statement_id": 4,
              "state": "finished",
              "livy_statement_state": "available",
              "queued_time": "2023-10-14T08:56:01.3110339Z",
              "session_start_time": null,
              "execution_start_time": "2023-10-14T08:56:01.4743947Z",
              "execution_finish_time": "2023-10-14T08:56:02.619699Z",
              "spark_jobs": null,
              "parent_msg_id": "d029d59a-146a-41dc-b478-5e306fb1602e"
            },
            "text/plain": "StatementMeta(sparkpool, 0, 4, Finished, Available)"
          },
          "metadata": {}
        }
      ],
      "execution_count": 3,
      "metadata": {
        "microsoft": {
          "language": "python"
        }
      }
    },
    {
      "cell_type": "code",
      "source": [
        "from pyspark.sql.functions import col\r\n",
        "from pyspark.sql.types import IntegerType, DoubleType, BooleanType, DateType\r\n",
        "from pyspark.sql.types import FloatType\r\n",
        "from pyspark.sql.functions import *"
      ],
      "outputs": [
        {
          "output_type": "display_data",
          "data": {
            "application/vnd.livy.statement-meta+json": {
              "spark_pool": "sparkpool",
              "session_id": "0",
              "statement_id": 12,
              "state": "finished",
              "livy_statement_state": "available",
              "queued_time": "2023-10-14T09:04:18.9814466Z",
              "session_start_time": null,
              "execution_start_time": "2023-10-14T09:04:19.181029Z",
              "execution_finish_time": "2023-10-14T09:04:19.3565229Z",
              "spark_jobs": null,
              "parent_msg_id": "b42c9098-cae8-4dcc-a99a-fc0a9fafce2c"
            },
            "text/plain": "StatementMeta(sparkpool, 0, 12, Finished, Available)"
          },
          "metadata": {}
        }
      ],
      "execution_count": 11,
      "metadata": {
        "jupyter": {
          "source_hidden": false,
          "outputs_hidden": false
        },
        "nteract": {
          "transient": {
            "deleting": false
          }
        }
      }
    },
    {
      "cell_type": "code",
      "source": [
        "loss_raw = spark.read.option(\"header\",\"true\").load(path=\"abfss://data-container@supermarket.dfs.core.windows.net/raw_data/loss.csv\",format=\"csv\")\r\n",
        "w_price_raw = spark.read.option(\"header\",\"true\").load(path=\"abfss://data-container@supermarket.dfs.core.windows.net/raw_data/w_price.csv\",format=\"csv\")\r\n",
        "sales_raw = spark.read.option(\"header\",\"true\").load(path=\"abfss://data-container@supermarket.dfs.core.windows.net/raw_data/sales.csv\",format=\"csv\")"
      ],
      "outputs": [
        {
          "output_type": "display_data",
          "data": {
            "application/vnd.livy.statement-meta+json": {
              "spark_pool": "sparkpool",
              "session_id": "0",
              "statement_id": 9,
              "state": "finished",
              "livy_statement_state": "available",
              "queued_time": "2023-10-14T09:00:53.3560633Z",
              "session_start_time": null,
              "execution_start_time": "2023-10-14T09:00:53.5120084Z",
              "execution_finish_time": "2023-10-14T09:00:55.4277802Z",
              "spark_jobs": null,
              "parent_msg_id": "28864d37-b9d8-4c9c-8767-03da542d2983"
            },
            "text/plain": "StatementMeta(sparkpool, 0, 9, Finished, Available)"
          },
          "metadata": {}
        }
      ],
      "execution_count": 8,
      "metadata": {
        "jupyter": {
          "source_hidden": false,
          "outputs_hidden": false
        },
        "nteract": {
          "transient": {
            "deleting": false
          }
        }
      }
    },
    {
      "cell_type": "code",
      "source": [
        "sales = sales_raw.withColumn('Date',col('Date').cast(DateType()))\\\r\n",
        ".withColumn('Quantity Sold (kilo)',col('Quantity Sold (kilo)').cast(FloatType()))\\\r\n",
        ".withColumn('Unit Selling Price (RMB/kg)',col('Unit Selling Price (RMB/kg)').cast(FloatType()))\r\n"
      ],
      "outputs": [
        {
          "output_type": "display_data",
          "data": {
            "application/vnd.livy.statement-meta+json": {
              "spark_pool": "sparkpool",
              "session_id": "0",
              "statement_id": 15,
              "state": "finished",
              "livy_statement_state": "available",
              "queued_time": "2023-10-14T09:07:31.5432279Z",
              "session_start_time": null,
              "execution_start_time": "2023-10-14T09:07:31.7305421Z",
              "execution_finish_time": "2023-10-14T09:07:31.9080373Z",
              "spark_jobs": null,
              "parent_msg_id": "ce780ba1-1853-4da5-807c-937dc5d03fb1"
            },
            "text/plain": "StatementMeta(sparkpool, 0, 15, Finished, Available)"
          },
          "metadata": {}
        }
      ],
      "execution_count": 14,
      "metadata": {
        "jupyter": {
          "source_hidden": false,
          "outputs_hidden": false
        },
        "nteract": {
          "transient": {
            "deleting": false
          }
        }
      }
    },
    {
      "cell_type": "code",
      "source": [
        "sales = sales.withColumn('Month',month(sales.Date))\\\r\n",
        ".withColumn(\"Price\",col(\"Quantity Sold (kilo)\")*col(\"Unit Selling Price (RMB/kg)\"))\\\r\n",
        ".withColumn(\"Year\",year(col('Date')))"
      ],
      "outputs": [
        {
          "output_type": "display_data",
          "data": {
            "application/vnd.livy.statement-meta+json": {
              "spark_pool": "sparkpool",
              "session_id": "0",
              "statement_id": 16,
              "state": "finished",
              "livy_statement_state": "available",
              "queued_time": "2023-10-14T09:07:35.6585463Z",
              "session_start_time": null,
              "execution_start_time": "2023-10-14T09:07:35.8214268Z",
              "execution_finish_time": "2023-10-14T09:07:35.998064Z",
              "spark_jobs": null,
              "parent_msg_id": "579241b2-cdb9-418d-845e-b7a9521bdb7f"
            },
            "text/plain": "StatementMeta(sparkpool, 0, 16, Finished, Available)"
          },
          "metadata": {}
        }
      ],
      "execution_count": 15,
      "metadata": {
        "jupyter": {
          "source_hidden": false,
          "outputs_hidden": false
        },
        "nteract": {
          "transient": {
            "deleting": false
          }
        }
      }
    },
    {
      "cell_type": "code",
      "source": [
        "loss = loss_raw.withColumn('Loss Rate (%)',col('Loss Rate (%)').cast(FloatType()))"
      ],
      "outputs": [
        {
          "output_type": "display_data",
          "data": {
            "application/vnd.livy.statement-meta+json": {
              "spark_pool": "sparkpool",
              "session_id": "0",
              "statement_id": 17,
              "state": "finished",
              "livy_statement_state": "available",
              "queued_time": "2023-10-14T09:08:49.1018876Z",
              "session_start_time": null,
              "execution_start_time": "2023-10-14T09:08:49.3437601Z",
              "execution_finish_time": "2023-10-14T09:08:49.5224518Z",
              "spark_jobs": null,
              "parent_msg_id": "9a7c18ea-a0e8-401c-8e28-cd16997ac814"
            },
            "text/plain": "StatementMeta(sparkpool, 0, 17, Finished, Available)"
          },
          "metadata": {}
        }
      ],
      "execution_count": 16,
      "metadata": {
        "jupyter": {
          "source_hidden": false,
          "outputs_hidden": false
        },
        "nteract": {
          "transient": {
            "deleting": false
          }
        }
      }
    },
    {
      "cell_type": "code",
      "source": [
        "w_price = w_price_raw.withColumn('Date',col('Date').cast(DateType()))\\\r\n",
        "    .withColumn('Wholesale Price (RMB/kg)',col('Wholesale Price (RMB/kg)').cast(FloatType()))"
      ],
      "outputs": [
        {
          "output_type": "display_data",
          "data": {
            "application/vnd.livy.statement-meta+json": {
              "spark_pool": "sparkpool",
              "session_id": "0",
              "statement_id": 18,
              "state": "finished",
              "livy_statement_state": "available",
              "queued_time": "2023-10-14T09:08:53.4216311Z",
              "session_start_time": null,
              "execution_start_time": "2023-10-14T09:08:53.60261Z",
              "execution_finish_time": "2023-10-14T09:08:53.7719599Z",
              "spark_jobs": null,
              "parent_msg_id": "9fd39593-8938-4380-b8bd-17152cf5c84f"
            },
            "text/plain": "StatementMeta(sparkpool, 0, 18, Finished, Available)"
          },
          "metadata": {}
        }
      ],
      "execution_count": 17,
      "metadata": {
        "jupyter": {
          "source_hidden": false,
          "outputs_hidden": false
        },
        "nteract": {
          "transient": {
            "deleting": false
          }
        }
      }
    },
    {
      "cell_type": "code",
      "source": [
        "sales.groupBy(\"Year\").agg(sum(\"Price\").alias(\"Total sales per year\"))\\\r\n",
        "    .sort(desc('Total sales per year')) \\\r\n",
        "    .show()"
      ],
      "outputs": [
        {
          "output_type": "display_data",
          "data": {
            "application/vnd.livy.statement-meta+json": {
              "spark_pool": "sparkpool",
              "session_id": "0",
              "statement_id": 20,
              "state": "finished",
              "livy_statement_state": "available",
              "queued_time": "2023-10-14T09:09:39.8296546Z",
              "session_start_time": null,
              "execution_start_time": "2023-10-14T09:09:39.9728596Z",
              "execution_finish_time": "2023-10-14T09:09:45.5131219Z",
              "spark_jobs": null,
              "parent_msg_id": "8aa6eb43-e461-422b-8487-c6fb78a64079"
            },
            "text/plain": "StatementMeta(sparkpool, 0, 20, Finished, Available)"
          },
          "metadata": {}
        },
        {
          "output_type": "stream",
          "name": "stdout",
          "text": [
            "+----+--------------------+\n|Year|Total sales per year|\n+----+--------------------+\n|2021|  1100362.6499556378|\n|2022|  1036772.4026289582|\n|2020|   669529.2706266977|\n|2023|   563102.1486261189|\n+----+--------------------+\n\n"
          ]
        }
      ],
      "execution_count": 19,
      "metadata": {
        "jupyter": {
          "source_hidden": false,
          "outputs_hidden": false
        },
        "nteract": {
          "transient": {
            "deleting": false
          }
        }
      }
    },
    {
      "cell_type": "code",
      "source": [
        "sales.groupBy(\"Year\",\"Month\").agg(sum(\"Price\").alias(\"Total sales per Month\")).sort(asc('Year'),asc('Month')) \\\r\n",
        "    .show()"
      ],
      "outputs": [
        {
          "output_type": "display_data",
          "data": {
            "application/vnd.livy.statement-meta+json": {
              "spark_pool": "sparkpool",
              "session_id": "0",
              "statement_id": 21,
              "state": "finished",
              "livy_statement_state": "available",
              "queued_time": "2023-10-14T09:10:00.9688321Z",
              "session_start_time": null,
              "execution_start_time": "2023-10-14T09:10:01.1612803Z",
              "execution_finish_time": "2023-10-14T09:10:03.0619229Z",
              "spark_jobs": null,
              "parent_msg_id": "f6f46fda-896f-48bb-bd94-10631c32cd07"
            },
            "text/plain": "StatementMeta(sparkpool, 0, 21, Finished, Available)"
          },
          "metadata": {}
        },
        {
          "output_type": "stream",
          "name": "stdout",
          "text": [
            "+----+-----+---------------------+\n|Year|Month|Total sales per Month|\n+----+-----+---------------------+\n|2020|    7|   122550.29299824312|\n|2020|    8|     133930.331336841|\n|2020|    9|   106520.83309704065|\n|2020|   10|   122685.28258185089|\n|2020|   11|    84574.69156730175|\n|2020|   12|    99267.83904542029|\n|2021|    1|   135735.11432659626|\n|2021|    2|   178817.90269818902|\n|2021|    3|    92091.74080651999|\n|2021|    4|     74633.4320570603|\n|2021|    5|    68115.36016271263|\n|2021|    6|    66851.88533959538|\n|2021|    7|    83136.95215059817|\n|2021|    8|   108694.55542507768|\n|2021|    9|    91217.39817206562|\n|2021|   10|    84693.81243920326|\n|2021|   11|    57670.31753855944|\n|2021|   12|   58704.178839460015|\n|2022|    1|    114624.3679151833|\n|2022|    2|    80479.23535914719|\n+----+-----+---------------------+\nonly showing top 20 rows\n\n"
          ]
        }
      ],
      "execution_count": 20,
      "metadata": {
        "jupyter": {
          "source_hidden": false,
          "outputs_hidden": false
        },
        "nteract": {
          "transient": {
            "deleting": false
          }
        }
      }
    },
    {
      "cell_type": "code",
      "source": [
        "sales.groupBy(\"Item Code\").agg(sum(\"Price\").alias(\"Total sell per day\"))\\\r\n",
        "    .sort(desc('Total sell per day')) \\\r\n",
        "    .show(10)"
      ],
      "outputs": [
        {
          "output_type": "display_data",
          "data": {
            "application/vnd.livy.statement-meta+json": {
              "spark_pool": "sparkpool",
              "session_id": "0",
              "statement_id": 22,
              "state": "finished",
              "livy_statement_state": "available",
              "queued_time": "2023-10-14T09:10:20.8045497Z",
              "session_start_time": null,
              "execution_start_time": "2023-10-14T09:10:21.0034984Z",
              "execution_finish_time": "2023-10-14T09:10:22.9235169Z",
              "spark_jobs": null,
              "parent_msg_id": "ccf04e13-af05-461d-bfb4-4e5a4f805054"
            },
            "text/plain": "StatementMeta(sparkpool, 0, 22, Finished, Available)"
          },
          "metadata": {}
        },
        {
          "output_type": "stream",
          "name": "stdout",
          "text": [
            "+-----------+------------------+\n|  Item Code|Total sell per day|\n+-----------+------------------+\n|  1.029E+14| 3265918.570337724|\n| 1.0695E+14| 77040.40110439062|\n|1.06972E+14|10654.000120162964|\n|1.06959E+14| 7983.700159549713|\n| 1.0693E+14| 4808.800060033798|\n|1.06956E+14|1403.1000137329102|\n|1.06973E+14| 879.9000182151794|\n|1.06958E+14| 718.5000233650208|\n|1.06974E+14|244.00000023841858|\n|1.06932E+14|             115.5|\n+-----------+------------------+\n\n"
          ]
        }
      ],
      "execution_count": 21,
      "metadata": {
        "jupyter": {
          "source_hidden": false,
          "outputs_hidden": false
        },
        "nteract": {
          "transient": {
            "deleting": false
          }
        }
      }
    },
    {
      "cell_type": "code",
      "source": [
        "org_price = sales.join(w_price,sales[\"Item Code\"]==w_price[\"Item Code\"]).select(sales.Date,'Quantity Sold (kilo)','Wholesale Price (RMB/kg)','Price')"
      ],
      "outputs": [
        {
          "output_type": "display_data",
          "data": {
            "application/vnd.livy.statement-meta+json": {
              "spark_pool": "sparkpool",
              "session_id": "0",
              "statement_id": 24,
              "state": "finished",
              "livy_statement_state": "available",
              "queued_time": "2023-10-14T09:12:05.6486021Z",
              "session_start_time": null,
              "execution_start_time": "2023-10-14T09:12:05.8024737Z",
              "execution_finish_time": "2023-10-14T09:12:05.9801015Z",
              "spark_jobs": null,
              "parent_msg_id": "cb5f7e54-da47-4742-9b7a-89b18a24c11a"
            },
            "text/plain": "StatementMeta(sparkpool, 0, 24, Finished, Available)"
          },
          "metadata": {}
        }
      ],
      "execution_count": 23,
      "metadata": {
        "jupyter": {
          "source_hidden": false,
          "outputs_hidden": false
        },
        "nteract": {
          "transient": {
            "deleting": false
          }
        }
      }
    },
    {
      "cell_type": "code",
      "source": [
        "prices = org_price.withColumn('original_price',col(\"Quantity Sold (kilo)\")*col(\"Wholesale Price (RMB/kg)\"))\\\r\n",
        "    .withColumn(\"Profit\",col(\"Price\")-col(\"original_price\"))"
      ],
      "outputs": [
        {
          "output_type": "display_data",
          "data": {
            "application/vnd.livy.statement-meta+json": {
              "spark_pool": "sparkpool",
              "session_id": "0",
              "statement_id": 25,
              "state": "finished",
              "livy_statement_state": "available",
              "queued_time": "2023-10-14T09:12:27.1104244Z",
              "session_start_time": null,
              "execution_start_time": "2023-10-14T09:12:27.2897578Z",
              "execution_finish_time": "2023-10-14T09:12:27.4627215Z",
              "spark_jobs": null,
              "parent_msg_id": "bbc40b63-36d7-4e0e-9a7c-de6b6b993dac"
            },
            "text/plain": "StatementMeta(sparkpool, 0, 25, Finished, Available)"
          },
          "metadata": {}
        }
      ],
      "execution_count": 24,
      "metadata": {
        "jupyter": {
          "source_hidden": false,
          "outputs_hidden": false
        },
        "nteract": {
          "transient": {
            "deleting": false
          }
        }
      }
    },
    {
      "cell_type": "code",
      "source": [
        "prices = prices.withColumn(\"Year\",year(prices.Date))"
      ],
      "outputs": [
        {
          "output_type": "display_data",
          "data": {
            "application/vnd.livy.statement-meta+json": {
              "spark_pool": "sparkpool",
              "session_id": "0",
              "statement_id": 34,
              "state": "finished",
              "livy_statement_state": "available",
              "queued_time": "2023-10-14T09:19:50.2988153Z",
              "session_start_time": null,
              "execution_start_time": "2023-10-14T09:19:50.4826985Z",
              "execution_finish_time": "2023-10-14T09:19:50.6775027Z",
              "spark_jobs": null,
              "parent_msg_id": "7c264953-8840-4a0e-9740-2d19cb7c1f53"
            },
            "text/plain": "StatementMeta(sparkpool, 0, 34, Finished, Available)"
          },
          "metadata": {}
        }
      ],
      "execution_count": 33,
      "metadata": {
        "jupyter": {
          "source_hidden": false,
          "outputs_hidden": false
        },
        "nteract": {
          "transient": {
            "deleting": false
          }
        }
      }
    },
    {
      "cell_type": "code",
      "source": [
        "prices.select('Year','Profit').groupBy('Year').agg(sum('Profit').alias('Total Profit')).sort(desc('Total Profit')).show()"
      ],
      "outputs": [
        {
          "output_type": "display_data",
          "data": {
            "application/vnd.livy.statement-meta+json": {
              "spark_pool": "sparkpool",
              "session_id": "0",
              "statement_id": 43,
              "state": "cancelled",
              "livy_statement_state": "waiting",
              "queued_time": "2023-10-14T09:31:09.3181905Z",
              "session_start_time": null,
              "execution_start_time": "2023-10-14T09:31:09.4927615Z",
              "execution_finish_time": "2023-10-14T09:33:46.7617795Z",
              "spark_jobs": null,
              "parent_msg_id": "241159ae-7cff-48f9-bf34-d293ba7f4504"
            },
            "text/plain": "StatementMeta(sparkpool, 0, 43, Cancelled, Waiting)"
          },
          "metadata": {}
        }
      ],
      "execution_count": 42,
      "metadata": {
        "jupyter": {
          "source_hidden": false,
          "outputs_hidden": false
        },
        "nteract": {
          "transient": {
            "deleting": false
          }
        }
      }
    },
    {
      "cell_type": "code",
      "source": [
        "prices.show()"
      ],
      "outputs": [
        {
          "output_type": "display_data",
          "data": {
            "application/vnd.livy.statement-meta+json": {
              "spark_pool": "sparkpool",
              "session_id": "0",
              "statement_id": 41,
              "state": "finished",
              "livy_statement_state": "available",
              "queued_time": "2023-10-14T09:27:55.0402672Z",
              "session_start_time": null,
              "execution_start_time": "2023-10-14T09:27:55.201413Z",
              "execution_finish_time": "2023-10-14T09:27:56.3623732Z",
              "spark_jobs": null,
              "parent_msg_id": "4b5f39af-103a-431a-bfec-4438f646c3e4"
            },
            "text/plain": "StatementMeta(sparkpool, 0, 41, Finished, Available)"
          },
          "metadata": {}
        },
        {
          "output_type": "stream",
          "name": "stdout",
          "text": [
            "+----------+--------------------+------------------------+------+--------------+-----------+----+\n|      Date|Quantity Sold (kilo)|Wholesale Price (RMB/kg)| Price|original_price|     Profit|Year|\n+----------+--------------------+------------------------+------+--------------+-----------+----+\n|2020-07-01|               0.396|                    4.48|3.0096|       1.77408|  1.2355199|2020|\n|2020-07-01|               0.396|                    6.45|3.0096|        2.5542|     0.4554|2020|\n|2020-07-01|               0.396|                    18.0|3.0096|         7.128| -4.1183996|2020|\n|2020-07-01|               0.396|                     3.2|3.0096|        1.2672|  1.7423999|2020|\n|2020-07-01|               0.396|                    1.53|3.0096|    0.60587996|    2.40372|2020|\n|2020-07-01|               0.396|                    3.12|3.0096|       1.23552|  1.7740799|2020|\n|2020-07-01|               0.396|                   12.72|3.0096|       5.03712|   -2.02752|2020|\n|2020-07-01|               0.396|                    3.32|3.0096|     1.3147199|    1.69488|2020|\n|2020-07-01|               0.396|                    3.41|3.0096|       1.35036|  1.6592399|2020|\n|2020-07-01|               0.396|                    8.39|3.0096|     3.3224401|-0.31284022|2020|\n|2020-07-01|               0.396|                    2.33|3.0096|    0.92267996|    2.08692|2020|\n|2020-07-01|               0.396|                   13.69|3.0096|       5.42124|   -2.41164|2020|\n|2020-07-01|               0.396|                    4.29|3.0096|       1.69884|  1.3107599|2020|\n|2020-07-01|               0.396|                     2.1|3.0096|    0.83159995|      2.178|2020|\n|2020-07-01|               0.396|                     2.6|3.0096|     1.0295999|       1.98|2020|\n|2020-07-01|               0.396|                    2.11|3.0096|    0.83555996|  2.1740398|2020|\n|2020-07-01|               0.396|                    4.07|3.0096|     1.6117201|  1.3978798|2020|\n|2020-07-01|               0.396|                    2.84|3.0096|       1.12464|  1.8849599|2020|\n|2020-07-01|               0.396|                    3.49|3.0096|       1.38204|  1.6275599|2020|\n|2020-07-01|               0.396|                     2.7|3.0096|        1.0692|  1.9403999|2020|\n+----------+--------------------+------------------------+------+--------------+-----------+----+\nonly showing top 20 rows\n\n"
          ]
        }
      ],
      "execution_count": 40,
      "metadata": {
        "jupyter": {
          "source_hidden": false,
          "outputs_hidden": false
        },
        "nteract": {
          "transient": {
            "deleting": false
          }
        }
      }
    },
    {
      "cell_type": "code",
      "source": [],
      "outputs": [],
      "execution_count": null,
      "metadata": {
        "jupyter": {
          "source_hidden": false,
          "outputs_hidden": false
        },
        "nteract": {
          "transient": {
            "deleting": false
          }
        }
      }
    }
  ],
  "metadata": {
    "language_info": {
      "name": "python"
    },
    "kernelspec": {
      "name": "synapse_pyspark",
      "language": "Python",
      "display_name": "Synapse PySpark"
    },
    "kernel_info": {
      "name": "synapse_pyspark"
    },
    "save_output": true,
    "synapse_widget": {
      "version": "0.1",
      "state": {}
    }
  },
  "nbformat": 4,
  "nbformat_minor": 2
}